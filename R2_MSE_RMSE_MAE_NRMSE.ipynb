{
 "cells": [
  {
   "cell_type": "code",
   "execution_count": 8,
   "id": "3e47187c",
   "metadata": {},
   "outputs": [
    {
     "data": {
      "text/html": [
       "<div>\n",
       "<style scoped>\n",
       "    .dataframe tbody tr th:only-of-type {\n",
       "        vertical-align: middle;\n",
       "    }\n",
       "\n",
       "    .dataframe tbody tr th {\n",
       "        vertical-align: top;\n",
       "    }\n",
       "\n",
       "    .dataframe thead th {\n",
       "        text-align: right;\n",
       "    }\n",
       "</style>\n",
       "<table border=\"1\" class=\"dataframe\">\n",
       "  <thead>\n",
       "    <tr style=\"text-align: right;\">\n",
       "      <th></th>\n",
       "      <th>Rain Fall (mm)</th>\n",
       "      <th>Fertilizer</th>\n",
       "      <th>Temperatue</th>\n",
       "      <th>Nitrogen (N)</th>\n",
       "      <th>Phosphorus (P)</th>\n",
       "      <th>Potassium (K)</th>\n",
       "      <th>Yeild (Q/acre)</th>\n",
       "    </tr>\n",
       "  </thead>\n",
       "  <tbody>\n",
       "    <tr>\n",
       "      <th>0</th>\n",
       "      <td>1230</td>\n",
       "      <td>80</td>\n",
       "      <td>28</td>\n",
       "      <td>80</td>\n",
       "      <td>24</td>\n",
       "      <td>20</td>\n",
       "      <td>12.0</td>\n",
       "    </tr>\n",
       "    <tr>\n",
       "      <th>1</th>\n",
       "      <td>480</td>\n",
       "      <td>60</td>\n",
       "      <td>36</td>\n",
       "      <td>70</td>\n",
       "      <td>20</td>\n",
       "      <td>18</td>\n",
       "      <td>8.0</td>\n",
       "    </tr>\n",
       "    <tr>\n",
       "      <th>2</th>\n",
       "      <td>1250</td>\n",
       "      <td>75</td>\n",
       "      <td>29</td>\n",
       "      <td>78</td>\n",
       "      <td>22</td>\n",
       "      <td>19</td>\n",
       "      <td>11.0</td>\n",
       "    </tr>\n",
       "    <tr>\n",
       "      <th>3</th>\n",
       "      <td>450</td>\n",
       "      <td>65</td>\n",
       "      <td>35</td>\n",
       "      <td>70</td>\n",
       "      <td>19</td>\n",
       "      <td>18</td>\n",
       "      <td>9.0</td>\n",
       "    </tr>\n",
       "    <tr>\n",
       "      <th>4</th>\n",
       "      <td>1200</td>\n",
       "      <td>80</td>\n",
       "      <td>27</td>\n",
       "      <td>79</td>\n",
       "      <td>22</td>\n",
       "      <td>19</td>\n",
       "      <td>11.0</td>\n",
       "    </tr>\n",
       "    <tr>\n",
       "      <th>...</th>\n",
       "      <td>...</td>\n",
       "      <td>...</td>\n",
       "      <td>...</td>\n",
       "      <td>...</td>\n",
       "      <td>...</td>\n",
       "      <td>...</td>\n",
       "      <td>...</td>\n",
       "    </tr>\n",
       "    <tr>\n",
       "      <th>94</th>\n",
       "      <td>1250</td>\n",
       "      <td>77</td>\n",
       "      <td>28</td>\n",
       "      <td>78</td>\n",
       "      <td>23</td>\n",
       "      <td>20</td>\n",
       "      <td>9.0</td>\n",
       "    </tr>\n",
       "    <tr>\n",
       "      <th>95</th>\n",
       "      <td>425</td>\n",
       "      <td>60</td>\n",
       "      <td>39</td>\n",
       "      <td>65</td>\n",
       "      <td>19</td>\n",
       "      <td>17</td>\n",
       "      <td>6.5</td>\n",
       "    </tr>\n",
       "    <tr>\n",
       "      <th>96</th>\n",
       "      <td>1220</td>\n",
       "      <td>79</td>\n",
       "      <td>28</td>\n",
       "      <td>77</td>\n",
       "      <td>23</td>\n",
       "      <td>21</td>\n",
       "      <td>10.5</td>\n",
       "    </tr>\n",
       "    <tr>\n",
       "      <th>97</th>\n",
       "      <td>480</td>\n",
       "      <td>65</td>\n",
       "      <td>36</td>\n",
       "      <td>68</td>\n",
       "      <td>21</td>\n",
       "      <td>16</td>\n",
       "      <td>7.0</td>\n",
       "    </tr>\n",
       "    <tr>\n",
       "      <th>98</th>\n",
       "      <td>1230</td>\n",
       "      <td>80</td>\n",
       "      <td>28</td>\n",
       "      <td>80</td>\n",
       "      <td>24</td>\n",
       "      <td>20</td>\n",
       "      <td>12.0</td>\n",
       "    </tr>\n",
       "  </tbody>\n",
       "</table>\n",
       "<p>99 rows × 7 columns</p>\n",
       "</div>"
      ],
      "text/plain": [
       "    Rain Fall (mm)  Fertilizer  Temperatue  Nitrogen (N)  Phosphorus (P)  \\\n",
       "0             1230          80          28            80              24   \n",
       "1              480          60          36            70              20   \n",
       "2             1250          75          29            78              22   \n",
       "3              450          65          35            70              19   \n",
       "4             1200          80          27            79              22   \n",
       "..             ...         ...         ...           ...             ...   \n",
       "94            1250          77          28            78              23   \n",
       "95             425          60          39            65              19   \n",
       "96            1220          79          28            77              23   \n",
       "97             480          65          36            68              21   \n",
       "98            1230          80          28            80              24   \n",
       "\n",
       "    Potassium (K)  Yeild (Q/acre)  \n",
       "0              20            12.0  \n",
       "1              18             8.0  \n",
       "2              19            11.0  \n",
       "3              18             9.0  \n",
       "4              19            11.0  \n",
       "..            ...             ...  \n",
       "94             20             9.0  \n",
       "95             17             6.5  \n",
       "96             21            10.5  \n",
       "97             16             7.0  \n",
       "98             20            12.0  \n",
       "\n",
       "[99 rows x 7 columns]"
      ]
     },
     "execution_count": 8,
     "metadata": {},
     "output_type": "execute_result"
    }
   ],
   "source": [
    "import pandas as pd\n",
    "import numpy as np\n",
    "import statsmodels.formula.api as smf\n",
    "import statsmodels.api as sm\n",
    "df = pd.read_excel(r\"C:\\Users\\Yamin Hossain\\Downloads\\crop yeild data sheet - Copy.xlsx\")\n",
    "df"
   ]
  },
  {
   "cell_type": "code",
   "execution_count": 2,
   "id": "e9556345",
   "metadata": {},
   "outputs": [
    {
     "data": {
      "text/html": [
       "<div>\n",
       "<style scoped>\n",
       "    .dataframe tbody tr th:only-of-type {\n",
       "        vertical-align: middle;\n",
       "    }\n",
       "\n",
       "    .dataframe tbody tr th {\n",
       "        vertical-align: top;\n",
       "    }\n",
       "\n",
       "    .dataframe thead th {\n",
       "        text-align: right;\n",
       "    }\n",
       "</style>\n",
       "<table border=\"1\" class=\"dataframe\">\n",
       "  <thead>\n",
       "    <tr style=\"text-align: right;\">\n",
       "      <th></th>\n",
       "      <th>RF</th>\n",
       "      <th>F</th>\n",
       "      <th>T</th>\n",
       "      <th>N</th>\n",
       "      <th>P</th>\n",
       "      <th>K</th>\n",
       "      <th>Y</th>\n",
       "    </tr>\n",
       "  </thead>\n",
       "  <tbody>\n",
       "    <tr>\n",
       "      <th>0</th>\n",
       "      <td>1230</td>\n",
       "      <td>80</td>\n",
       "      <td>28</td>\n",
       "      <td>80</td>\n",
       "      <td>24</td>\n",
       "      <td>20</td>\n",
       "      <td>12.0</td>\n",
       "    </tr>\n",
       "    <tr>\n",
       "      <th>1</th>\n",
       "      <td>480</td>\n",
       "      <td>60</td>\n",
       "      <td>36</td>\n",
       "      <td>70</td>\n",
       "      <td>20</td>\n",
       "      <td>18</td>\n",
       "      <td>8.0</td>\n",
       "    </tr>\n",
       "    <tr>\n",
       "      <th>2</th>\n",
       "      <td>1250</td>\n",
       "      <td>75</td>\n",
       "      <td>29</td>\n",
       "      <td>78</td>\n",
       "      <td>22</td>\n",
       "      <td>19</td>\n",
       "      <td>11.0</td>\n",
       "    </tr>\n",
       "    <tr>\n",
       "      <th>3</th>\n",
       "      <td>450</td>\n",
       "      <td>65</td>\n",
       "      <td>35</td>\n",
       "      <td>70</td>\n",
       "      <td>19</td>\n",
       "      <td>18</td>\n",
       "      <td>9.0</td>\n",
       "    </tr>\n",
       "    <tr>\n",
       "      <th>4</th>\n",
       "      <td>1200</td>\n",
       "      <td>80</td>\n",
       "      <td>27</td>\n",
       "      <td>79</td>\n",
       "      <td>22</td>\n",
       "      <td>19</td>\n",
       "      <td>11.0</td>\n",
       "    </tr>\n",
       "    <tr>\n",
       "      <th>...</th>\n",
       "      <td>...</td>\n",
       "      <td>...</td>\n",
       "      <td>...</td>\n",
       "      <td>...</td>\n",
       "      <td>...</td>\n",
       "      <td>...</td>\n",
       "      <td>...</td>\n",
       "    </tr>\n",
       "    <tr>\n",
       "      <th>94</th>\n",
       "      <td>1250</td>\n",
       "      <td>77</td>\n",
       "      <td>28</td>\n",
       "      <td>78</td>\n",
       "      <td>23</td>\n",
       "      <td>20</td>\n",
       "      <td>9.0</td>\n",
       "    </tr>\n",
       "    <tr>\n",
       "      <th>95</th>\n",
       "      <td>425</td>\n",
       "      <td>60</td>\n",
       "      <td>39</td>\n",
       "      <td>65</td>\n",
       "      <td>19</td>\n",
       "      <td>17</td>\n",
       "      <td>6.5</td>\n",
       "    </tr>\n",
       "    <tr>\n",
       "      <th>96</th>\n",
       "      <td>1220</td>\n",
       "      <td>79</td>\n",
       "      <td>28</td>\n",
       "      <td>77</td>\n",
       "      <td>23</td>\n",
       "      <td>21</td>\n",
       "      <td>10.5</td>\n",
       "    </tr>\n",
       "    <tr>\n",
       "      <th>97</th>\n",
       "      <td>480</td>\n",
       "      <td>65</td>\n",
       "      <td>36</td>\n",
       "      <td>68</td>\n",
       "      <td>21</td>\n",
       "      <td>16</td>\n",
       "      <td>7.0</td>\n",
       "    </tr>\n",
       "    <tr>\n",
       "      <th>98</th>\n",
       "      <td>1230</td>\n",
       "      <td>80</td>\n",
       "      <td>28</td>\n",
       "      <td>80</td>\n",
       "      <td>24</td>\n",
       "      <td>20</td>\n",
       "      <td>12.0</td>\n",
       "    </tr>\n",
       "  </tbody>\n",
       "</table>\n",
       "<p>99 rows × 7 columns</p>\n",
       "</div>"
      ],
      "text/plain": [
       "      RF   F   T   N   P   K     Y\n",
       "0   1230  80  28  80  24  20  12.0\n",
       "1    480  60  36  70  20  18   8.0\n",
       "2   1250  75  29  78  22  19  11.0\n",
       "3    450  65  35  70  19  18   9.0\n",
       "4   1200  80  27  79  22  19  11.0\n",
       "..   ...  ..  ..  ..  ..  ..   ...\n",
       "94  1250  77  28  78  23  20   9.0\n",
       "95   425  60  39  65  19  17   6.5\n",
       "96  1220  79  28  77  23  21  10.5\n",
       "97   480  65  36  68  21  16   7.0\n",
       "98  1230  80  28  80  24  20  12.0\n",
       "\n",
       "[99 rows x 7 columns]"
      ]
     },
     "execution_count": 2,
     "metadata": {},
     "output_type": "execute_result"
    }
   ],
   "source": [
    "df1=df.rename({'Rain Fall (mm)':'RF','Fertilizer':'F','Temperatue':'T','Nitrogen (N)':'N','Phosphorus (P)':'P','Potassium (K)':'K','Yeild (Q/acre)':'Y'},axis=1)\n",
    "df1"
   ]
  },
  {
   "cell_type": "markdown",
   "id": "b5c33ac7",
   "metadata": {},
   "source": [
    "Find the R2"
   ]
  },
  {
   "cell_type": "code",
   "execution_count": 9,
   "id": "e3cfadb5",
   "metadata": {},
   "outputs": [
    {
     "data": {
      "text/plain": [
       "(0.9532266693886996, 0.9501762347836148)"
      ]
     },
     "execution_count": 9,
     "metadata": {},
     "output_type": "execute_result"
    }
   ],
   "source": [
    "model=smf.ols(\"RF~F+T+N+P+K+Y\",data=df1).fit()\n",
    "model.rsquared,model.rsquared_adj"
   ]
  },
  {
   "cell_type": "markdown",
   "id": "34e8bed5",
   "metadata": {},
   "source": [
    "mean square error (MSE), "
   ]
  },
  {
   "cell_type": "code",
   "execution_count": 17,
   "id": "1bd3722a",
   "metadata": {},
   "outputs": [
    {
     "name": "stdout",
     "output_type": "stream",
     "text": [
      "      RF   F   T   N   P   K     Y  y_predicted  f_predicted  n_predicted  \\\n",
      "0   1230  80  28  80  24  20  12.0    10.707255    76.293557    76.295181   \n",
      "1    480  60  36  70  20  18   8.0     7.439091    59.554806    65.331653   \n",
      "2   1250  75  29  78  22  19  11.0    10.794407    76.739923    76.587542   \n",
      "3    450  65  35  70  19  18   9.0     7.308364    58.885256    64.893112   \n",
      "4   1200  80  27  79  22  19  11.0    10.576529    75.624007    75.856640   \n",
      "..   ...  ..  ..  ..  ..  ..   ...          ...          ...          ...   \n",
      "94  1250  77  28  78  23  20   9.0    10.794407    76.739923    76.587542   \n",
      "95   425  60  39  65  19  17   6.5     7.199425    58.327297    64.527661   \n",
      "96  1220  79  28  77  23  21  10.5    10.663680    76.070373    76.149001   \n",
      "97   480  65  36  68  21  16   7.0     7.439091    59.554806    65.331653   \n",
      "98  1230  80  28  80  24  20  12.0    10.707255    76.293557    76.295181   \n",
      "\n",
      "    p_predicted  k_predicted  \n",
      "0     22.572224    19.461119  \n",
      "1     19.729832    16.698417  \n",
      "2     22.648021    19.534791  \n",
      "3     19.616136    16.587909  \n",
      "4     22.458528    19.350611  \n",
      "..          ...          ...  \n",
      "94    22.648021    19.534791  \n",
      "95    19.521390    16.495819  \n",
      "96    22.534326    19.424283  \n",
      "97    19.729832    16.698417  \n",
      "98    22.572224    19.461119  \n",
      "\n",
      "[99 rows x 12 columns]\n"
     ]
    }
   ],
   "source": [
    "from sklearn.linear_model import LinearRegression\n",
    "model2 = LinearRegression()\n",
    "model2.fit(df1[['RF']], df1['F'])\n",
    "f_2 = model2.predict(df1[['RF']])\n",
    "df1['f_predicted'] = f_2\n",
    "model3 = LinearRegression()\n",
    "model3.fit(df1[['RF']], df1['T'])\n",
    "t_2 = model3.predict(df1[['RF']])\n",
    "df1['f_predicted'] = f_2\n",
    "model4 = LinearRegression()\n",
    "model4.fit(df1[['RF']], df1['N'])\n",
    "n_2 = model4.predict(df1[['RF']])\n",
    "df1['n_predicted'] = n_2\n",
    "model5 = LinearRegression()\n",
    "model5.fit(df1[['RF']], df1['P'])\n",
    "p_2 = model5.predict(df1[['RF']])\n",
    "df1['p_predicted'] = p_2\n",
    "model6 = LinearRegression()\n",
    "model6.fit(df1[['RF']], df1['K'])\n",
    "k_2 = model6.predict(df1[['RF']])\n",
    "df1['k_predicted'] = k_2\n",
    "model7 = LinearRegression()\n",
    "model7.fit(df1[['RF']], df1['Y'])\n",
    "y_2 = model7.predict(df1[['RF']])\n",
    "df1['y_predicted'] = y_2\n",
    "print(df1)"
   ]
  },
  {
   "cell_type": "code",
   "execution_count": 18,
   "id": "86b72fe3",
   "metadata": {},
   "outputs": [
    {
     "name": "stdout",
     "output_type": "stream",
     "text": [
      "34.353611526923984\n"
     ]
    }
   ],
   "source": [
    "from sklearn.metrics import mean_squared_error\n",
    "mse = mean_squared_error(df1['Y'], df1['y_predicted']) + mean_squared_error(df1['F'], df1['f_predicted']) +mean_squared_error(df1['N'], df1['n_predicted']) + mean_squared_error(df1['P'], df1['p_predicted']) + mean_squared_error(df1['K'], df1['k_predicted'])\n",
    "print(mse)"
   ]
  },
  {
   "cell_type": "markdown",
   "id": "48fe081b",
   "metadata": {},
   "source": [
    "root mean square error (RMSE)"
   ]
  },
  {
   "cell_type": "code",
   "execution_count": 26,
   "id": "50b4fdee",
   "metadata": {},
   "outputs": [
    {
     "name": "stdout",
     "output_type": "stream",
     "text": [
      "5.861195400848191\n"
     ]
    }
   ],
   "source": [
    "from math import sqrt\n",
    "RMSE = sqrt(mse)\n",
    "print(RMSE)"
   ]
  },
  {
   "cell_type": "markdown",
   "id": "4be52b7d",
   "metadata": {},
   "source": [
    "mean absolute error (MAE)"
   ]
  },
  {
   "cell_type": "code",
   "execution_count": 21,
   "id": "b99d1929",
   "metadata": {},
   "outputs": [
    {
     "name": "stdout",
     "output_type": "stream",
     "text": [
      "8.687693913324974\n"
     ]
    }
   ],
   "source": [
    "from sklearn.metrics import mean_absolute_error\n",
    "mae = mean_absolute_error(df1['Y'], df1['y_predicted']) + mean_absolute_error(df1['F'], df1['f_predicted']) + mean_absolute_error(df1['N'], df1['n_predicted']) + mean_absolute_error(df1['P'], df1['p_predicted']) + mean_absolute_error(df1['K'], df1['k_predicted'])\n",
    "print(mae)"
   ]
  },
  {
   "cell_type": "markdown",
   "id": "006e8f26",
   "metadata": {},
   "source": [
    "normalized root mean square error (NRMSE)"
   ]
  },
  {
   "cell_type": "code",
   "execution_count": 24,
   "id": "4b5db88d",
   "metadata": {},
   "outputs": [
    {
     "name": "stdout",
     "output_type": "stream",
     "text": [
      "Rain Fall (mm)    400.042676\n",
      "Fertilizer         10.028202\n",
      "Temperatue          5.426350\n",
      "Nitrogen (N)        6.677079\n",
      "Phosphorus (P)      1.951695\n",
      "Potassium (K)       1.817254\n",
      "Yeild (Q/acre)      1.965902\n",
      "dtype: float64\n"
     ]
    }
   ],
   "source": [
    "dfstd=df.std()\n",
    "print(dfstd)"
   ]
  },
  {
   "cell_type": "code",
   "execution_count": 32,
   "id": "d34f6da0",
   "metadata": {},
   "outputs": [
    {
     "name": "stdout",
     "output_type": "stream",
     "text": [
      "0.013697289042609983\n"
     ]
    }
   ],
   "source": [
    "NRMSE = RMSE/dfstd.sum()\n",
    "print(NRMSE)"
   ]
  },
  {
   "cell_type": "code",
   "execution_count": null,
   "id": "71ca2196",
   "metadata": {},
   "outputs": [],
   "source": []
  }
 ],
 "metadata": {
  "kernelspec": {
   "display_name": "Python 3 (ipykernel)",
   "language": "python",
   "name": "python3"
  },
  "language_info": {
   "codemirror_mode": {
    "name": "ipython",
    "version": 3
   },
   "file_extension": ".py",
   "mimetype": "text/x-python",
   "name": "python",
   "nbconvert_exporter": "python",
   "pygments_lexer": "ipython3",
   "version": "3.9.13"
  }
 },
 "nbformat": 4,
 "nbformat_minor": 5
}
