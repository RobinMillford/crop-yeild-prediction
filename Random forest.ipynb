{
 "cells": [
  {
   "cell_type": "markdown",
   "id": "267836e2",
   "metadata": {},
   "source": [
    "DataPreparation"
   ]
  },
  {
   "cell_type": "code",
   "execution_count": 6,
   "id": "85f7b69c",
   "metadata": {},
   "outputs": [
    {
     "name": "stdout",
     "output_type": "stream",
     "text": [
      "    Rain Fall (mm)  Fertilizer  Temperatue  Nitrogen (N)  Phosphorus (P)  \\\n",
      "0             1230          80          28            80              24   \n",
      "1              480          60          36            70              20   \n",
      "2             1250          75          29            78              22   \n",
      "3              450          65          35            70              19   \n",
      "4             1200          80          27            79              22   \n",
      "..             ...         ...         ...           ...             ...   \n",
      "94            1250          77          28            78              23   \n",
      "95             425          60          39            65              19   \n",
      "96            1220          79          28            77              23   \n",
      "97             480          65          36            68              21   \n",
      "98            1230          80          28            80              24   \n",
      "\n",
      "    Potassium (K)  Yeild (Q/acre)  \n",
      "0              20            12.0  \n",
      "1              18             8.0  \n",
      "2              19            11.0  \n",
      "3              18             9.0  \n",
      "4              19            11.0  \n",
      "..            ...             ...  \n",
      "94             20             9.0  \n",
      "95             17             6.5  \n",
      "96             21            10.5  \n",
      "97             16             7.0  \n",
      "98             20            12.0  \n",
      "\n",
      "[99 rows x 7 columns]\n"
     ]
    }
   ],
   "source": [
    "import numpy as np\n",
    "import matplotlib.pyplot as plt\n",
    "import pandas as pd\n",
    "Data = pd.read_excel(r\"C:\\Users\\Yamin Hossain\\Downloads\\crop yeild data sheet - Copy.xlsx\")\n",
    "print(Data)"
   ]
  },
  {
   "cell_type": "code",
   "execution_count": 26,
   "id": "50d97e5b",
   "metadata": {},
   "outputs": [],
   "source": [
    "x = Data.iloc[:,[2,3]].values\n",
    "y = Data.iloc[:,4].values"
   ]
  },
  {
   "cell_type": "code",
   "execution_count": 28,
   "id": "124cf3f2",
   "metadata": {},
   "outputs": [
    {
     "data": {
      "text/plain": [
       "((29, 2), (70, 2))"
      ]
     },
     "execution_count": 28,
     "metadata": {},
     "output_type": "execute_result"
    }
   ],
   "source": [
    "from sklearn.model_selection import train_test_split\n",
    "x_train, x_test, y_train, y_test = train_test_split(x,y,test_size=0.7, random_state=42)\n",
    "x_train.shape, x_test.shape"
   ]
  },
  {
   "cell_type": "code",
   "execution_count": 31,
   "id": "e3ecd1c9",
   "metadata": {},
   "outputs": [],
   "source": [
    "from sklearn.preprocessing import StandardScaler\n",
    "st_x = StandardScaler()\n",
    "x_train = st_x.fit_transform(x_train)\n",
    "x_test = st_x.transform(x_test)"
   ]
  },
  {
   "cell_type": "code",
   "execution_count": 38,
   "id": "437c485d",
   "metadata": {},
   "outputs": [
    {
     "data": {
      "text/plain": [
       "0.3448275862068966"
      ]
     },
     "execution_count": 38,
     "metadata": {},
     "output_type": "execute_result"
    }
   ],
   "source": [
    "from sklearn.ensemble import RandomForestClassifier\n",
    "classifier = RandomForestClassifier(random_state=42, n_jobs=-1,  max_depth=5,n_estimators=100,oob_score=True)\n",
    "classifier.fit(x_train,y_train)\n",
    "classifier.oob_score_"
   ]
  },
  {
   "cell_type": "code",
   "execution_count": 34,
   "id": "1f6a17da",
   "metadata": {},
   "outputs": [
    {
     "name": "stdout",
     "output_type": "stream",
     "text": [
      "[21 23 19 22 22 23 24 22 21 21 18 21 22 18 24 21 19 21 23 20 19 24 21 18\n",
      " 19 19 18 20 19 22 21 24 21 18 22 20 19 19 21 21 23 22 19 21 21 22 22 19\n",
      " 19 19 20 19 24 21 18 23 19 22 18 22 21 21 19 22 24 24 19 20 23 22]\n"
     ]
    }
   ],
   "source": [
    "y_pred = classifier.predict(x_test)\n",
    "print(y_pred)"
   ]
  },
  {
   "cell_type": "code",
   "execution_count": 37,
   "id": "e7cc5065",
   "metadata": {},
   "outputs": [
    {
     "name": "stdout",
     "output_type": "stream",
     "text": [
      "[[5 5 0 0 1 0 0]\n",
      " [1 5 1 0 0 0 0]\n",
      " [1 2 3 0 1 0 0]\n",
      " [0 3 1 2 1 1 2]\n",
      " [0 1 0 2 7 1 2]\n",
      " [0 0 0 6 2 4 2]\n",
      " [0 0 0 6 1 0 1]]\n",
      "              precision    recall  f1-score   support\n",
      "\n",
      "          18       0.71      0.45      0.56        11\n",
      "          19       0.31      0.71      0.43         7\n",
      "          20       0.60      0.43      0.50         7\n",
      "          21       0.12      0.20      0.15        10\n",
      "          22       0.54      0.54      0.54        13\n",
      "          23       0.67      0.29      0.40        14\n",
      "          24       0.14      0.12      0.13         8\n",
      "\n",
      "    accuracy                           0.39        70\n",
      "   macro avg       0.44      0.39      0.39        70\n",
      "weighted avg       0.47      0.39      0.40        70\n",
      "\n",
      "0.38571428571428573\n"
     ]
    }
   ],
   "source": [
    "from sklearn.metrics import confusion_matrix, classification_report, accuracy_score\n",
    "cm = confusion_matrix(y_test,y_pred)\n",
    "print(cm)\n",
    "cm2 = classification_report(y_test,y_pred)\n",
    "print(cm2)\n",
    "cm3 = accuracy_score(y_test,y_pred)\n",
    "print(cm3)"
   ]
  },
  {
   "cell_type": "code",
   "execution_count": null,
   "id": "325df509",
   "metadata": {},
   "outputs": [],
   "source": []
  }
 ],
 "metadata": {
  "kernelspec": {
   "display_name": "Python 3 (ipykernel)",
   "language": "python",
   "name": "python3"
  },
  "language_info": {
   "codemirror_mode": {
    "name": "ipython",
    "version": 3
   },
   "file_extension": ".py",
   "mimetype": "text/x-python",
   "name": "python",
   "nbconvert_exporter": "python",
   "pygments_lexer": "ipython3",
   "version": "3.9.13"
  }
 },
 "nbformat": 4,
 "nbformat_minor": 5
}
